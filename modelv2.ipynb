import pandas as pd
import numpy as np
import requests
from sklearn.model_selection import train_test_split, StratifiedKFold
from sklearn.metrics import classification_report, roc_auc_score, precision_recall_curve, auc
from sklearn.preprocessing import StandardScaler
from imblearn.over_sampling import SMOTE
from tensorflow.keras.models import Model
from tensorflow.keras.layers import Input, Dense, Dropout, concatenate, Reshape, LSTM, Bidirectional, BatchNormalization, Attention
from tensorflow.keras.optimizers import RMSprop
from tensorflow.keras.callbacks import EarlyStopping, ReduceLROnPlateau, ModelCheckpoint
from tensorflow.keras.regularizers import l2
import tensorflow as tf
import shap
import matplotlib.pyplot as plt
import seaborn as sns

class EnhancedADRPredictor:
    def __init__(self, drug_name='Paracetamol', max_results=1000):
        self.drug_name = drug_name
        self.max_results = max_results
        self.base_url = "https://api.fda.gov/drug/event.json"
        self.model = None
        self.reaction_encoder = None
        self.scaler = StandardScaler()

    def fetch_openfda_data(self):
        """Fetch data from the openFDA API."""
        params = {'search': f'patient.drug.medicinalproduct:"{self.drug_name}"',
                  'limit': min(1000, self.max_results), 'skip': 0}
        all_results = []
        max_retries = 3

        for _ in range(max_retries):
            try:
                response = requests.get(self.base_url, params=params, timeout=15)
                response.raise_for_status()
                data = response.json()
                results = data.get('results', [])
                if results:
                    all_results.extend(results)
                if len(all_results) >= self.max_results:
                    break
                params['skip'] += len(results)
                print(f"Fetched {len(all_results)} records so far...")
            except Exception as e:
                print(f"Error fetching data: {e}")
                continue

        return pd.DataFrame(self._process_results(all_results)) if all_results else self.generate_sample_data()

    def _process_results(self, results):
        """Process raw API results into structured data."""
        processed = []
        for event in results:
            try:
                reactions = [reac['reactionmeddrapt'] for reac in event.get('patient', {}).get('reaction', [])]
                concomitant_drugs = len(event.get('patient', {}).get('drug', []))
                entry = {
                    'age': float(event.get('patient', {}).get('patientonsetage', 30)),
                    'sex': event.get('patient', {}).get('patientsex', 'unknown').lower(),
                    'weight': float(event.get('patient', {}).get('patientweight', 70)),
                    'dosage': self._extract_dosage(event),
                    'reactions': reactions if reactions else ['unknown'],
                    'concomitant_drugs': concomitant_drugs if concomitant_drugs > 0 else 1,
                    'serious': int(event.get('serious', 0))
                }
                processed.append(entry)
            except Exception as e:
                print(f"Error processing entry: {e}")
        return processed

    def _extract_dosage(self, event):
        """Extract dosage information."""
        try:
            dosage_text = event.get('patient', {}).get('drug', [{}])[0].get('drugdosagetext', '')
            if 'mg' in dosage_text.lower():
                dosage_value = ''.join(filter(str.isdigit, dosage_text.split('mg')[0]))
            else:
                dosage_value = ''.join(filter(str.isdigit, dosage_text))
            return float(dosage_value) if dosage_value and any(c.isdigit() for c in dosage_value) else 1.0
        except Exception:
            return 1.0

    def preprocess_data(self, df):
        """Preprocess the dataset."""
        df['sex'] = df['sex'].map({'male': 0, 'female': 1}).fillna(0.5)
        df['reactions'] = df['reactions'].apply(lambda x: x if isinstance(x, list) else ['unknown'])
        all_reactions = list(set(reac for sublist in df['reactions'] for reac in sublist)) or ['unknown']
        self.reaction_encoder = {reac: i + 1 for i, reac in enumerate(all_reactions)}
        df['reaction_seq'] = df['reactions'].apply(
            lambda x: [self.reaction_encoder.get(r, 0) for r in x][:10] + [0] * (10 - len(x))
        )
        
        df['reaction_count'] = df['reactions'].apply(len)
        df['bmi'] = df['weight'] / ((df['age'] / 100) ** 2)
        df['bmi'] = df['bmi'].clip(15, 45)

        numerical_features = ['age', 'weight', 'dosage', 'concomitant_drugs', 'reaction_count', 'bmi']
        df[numerical_features] = df[numerical_features].fillna(df[numerical_features].median())
        df[numerical_features] = self.scaler.fit_transform(df[numerical_features])
        
        df['target'] = df['serious']
        
        return df

    def build_hybrid_model(self):
        """Build the hybrid LSTM and structured data model."""
        lstm_input = Input(shape=(10,), name='reaction_seq')
        x = Reshape((10, 1))(lstm_input)
        
        lstm1 = Bidirectional(LSTM(128, return_sequences=True))(x)
        bn1 = BatchNormalization()(lstm1)
